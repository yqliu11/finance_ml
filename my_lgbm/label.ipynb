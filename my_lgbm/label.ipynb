{
 "cells": [
  {
   "cell_type": "code",
   "execution_count": 464,
   "metadata": {},
   "outputs": [],
   "source": [
    "import pandas as pd\n",
    "import numpy as np\n",
    "from my.data.basic_func import get_basic_data\n",
    "from my.data.meta_api import get_before_trade_info\n",
    "from finance_ml.labeling import get_barrier_labels\n",
    "import multiprocessing as mp\n",
    "from sklearn.model_selection import train_test_split\n",
    "from datetime import datetime\n",
    "import lightgbm as lgb\n",
    "import factors\n",
    "import matplotlib.pyplot as plt\n",
    "from sklearn.metrics import mean_absolute_error\n",
    "from scipy import signal"
   ]
  },
  {
   "cell_type": "code",
   "execution_count": 2,
   "metadata": {},
   "outputs": [],
   "source": [
    "start_dt = 20230103\n",
    "end_dt = 20230214\n",
    "\n",
    "table_name = \"bond_calendar\"\n",
    "df = get_basic_data(20230728, table_name)\n",
    "cal_list = df[df.exchmarket == \"NIB\"].trade_dt\n",
    "dates = []\n",
    "for i in cal_list:\n",
    "    if (int(i) >= start_dt) & (int(i) <= end_dt):\n",
    "        dates.append(int(i))\n",
    "dates_not_in = [20221219,20221231, 20230120, 20230128, 20230129, 20230215,20230216, 20230423, 20230506, 20230625]\n",
    "# dates_not_in = [20221219,20221231, 20230120, 20230129, 20230423, 20230506, 20230625]\n",
    "for j in dates_not_in:\n",
    "    if j in dates:\n",
    "        dates.remove(j)"
   ]
  },
  {
   "cell_type": "code",
   "execution_count": 3,
   "metadata": {},
   "outputs": [],
   "source": [
    "def stamp2dt(timestamp):\n",
    "    if len(str(timestamp)) > 10:\n",
    "        timestamp = timestamp / pow(10, (len(str(timestamp)) - 10))\n",
    "\n",
    "    dt = datetime.fromtimestamp(timestamp)\n",
    "    return dt"
   ]
  },
  {
   "cell_type": "code",
   "execution_count": 4,
   "metadata": {},
   "outputs": [
    {
     "name": "stdout",
     "output_type": "stream",
     "text": [
      "20230103\n",
      "20230104\n",
      "20230105\n",
      "20230106\n",
      "20230109\n",
      "20230110\n",
      "20230111\n",
      "20230112\n",
      "20230113\n",
      "20230116\n",
      "20230117\n",
      "20230118\n",
      "20230119\n",
      "20230130\n",
      "20230131\n",
      "20230201\n",
      "20230202\n",
      "20230203\n",
      "20230206\n",
      "20230207\n",
      "20230208\n",
      "20230209\n",
      "20230210\n",
      "20230213\n",
      "20230214\n"
     ]
    }
   ],
   "source": [
    "Fx = []\n",
    "Fy = []\n",
    "for date in dates:\n",
    "    df_mc = get_before_trade_info(date, \"bond_main_contract\")\n",
    "    mc_dict = dict(zip(df_mc.label, df_mc.securityid))\n",
    "    if \"CDB10Y01.IB\" in mc_dict:\n",
    "        bond_code = mc_dict[\"CDB10Y01.IB\"]\n",
    "    else:\n",
    "        bond_code = '220220.IB'\n",
    "    terms, y = factors.get_factors(bond_code, date)\n",
    "\n",
    "    print(date)\n",
    "    terms = np.array(terms)\n",
    "    Fx.append(terms)  # label drops last minute\n",
    "    Fy.append(y)"
   ]
  },
  {
   "cell_type": "code",
   "execution_count": 5,
   "metadata": {},
   "outputs": [],
   "source": [
    "# resample 900 ticks\n",
    "# ticks = 900\n",
    "# Fy_resam = np.array((len(Fy), ticks))\n",
    "# Fx_resam = np.array((len(Fy), len(Fx[0]), ticks ))\n",
    "# for i in range(len(Fy)):\n",
    "#     Fy_resam[i,:] = signal.resample(Fy[i], ticks)\n",
    "Fx_resam = []\n",
    "Fy_resam = []\n",
    "for i in range(len(Fx)):\n",
    "    Fx_resam.append(Fx[i][:,::5])\n",
    "    Fy_resam.append(Fy[i][::5])"
   ]
  },
  {
   "cell_type": "code",
   "execution_count": 364,
   "metadata": {},
   "outputs": [],
   "source": [
    "# simply cut 25 days in 5 periods \n",
    "model_label = ['1st5d','2nd5d']\n",
    "test1: train : 1-200 test 201 \n",
    "test2: train:  2-201 test 202\n",
    "test3: train:  3-203 test 203\n",
    "test4: 4 实盘 \n",
    "\n",
    "\n",
    "# test: 1-5 test 6\n",
    "# test: 1-10 test \n",
    "\n",
    "Fx_total=[Fx_resam[:5], \n",
    "          \n",
    "          Fx_resam[5:10], Fx_resam[10:15], Fx_resam[15:20], Fx_resam[20:]]\n",
    "Fy_total = [Fy_resam[:5], Fy_resam[5:10], Fy_resam[10:15], Fy_resam[15:20], Fy_resam[20:]]"
   ]
  },
  {
   "cell_type": "code",
   "execution_count": null,
   "metadata": {},
   "outputs": [],
   "source": [
    "# features selection\n",
    "gridsearch 选择超参\n",
    "best estimater feature_importance ranking top 50 in 100 \n",
    "1. 找因子 \n",
    "2. 找到参数 一天一次\n",
    "train 1-5 天\n"
   ]
  },
  {
   "cell_type": "code",
   "execution_count": 369,
   "metadata": {},
   "outputs": [],
   "source": [
    "def lightgbmTest():\n",
    "    import lightgbm as lgb\n",
    "    # 第一步，初始化模型为None，设置模型参数\n",
    "    gbm = None\n",
    "    params = {\n",
    "        'task': 'train',\n",
    "        'application': 'regression',  # 目标函数\n",
    "        'boosting_type': 'gbdt',  # 设置提升类型\n",
    "        'learning_rate': 0.01,  # 学习速率\n",
    "        'num_leaves': 50,  # 叶子节点数\n",
    "        'tree_learner': 'serial',\n",
    "        'min_data_in_leaf': 100,\n",
    "        'metric': ['l1', 'l2', 'rmse'],  # l1:mae, l2:mse  # 评估函数\n",
    "        'max_bin': 255,\n",
    "        'num_trees': 300\n",
    "    } \n",
    "    for i in range(5):\n",
    "        # 创建lgb的数据集\n",
    "        # y_ = list(map(float, y_))  # 将numpy.ndarray转变为list\n",
    "        X_ = Fx_total[i]\n",
    "        y_ = Fy_total[i]\n",
    " \n",
    "        X_train, X_test, y_train, y_test = train_test_split(X_, y_, test_size=0.25, random_state=0)\n",
    "        # y_train = y_train.ravel()\n",
    "        lgb_train = lgb.Dataset(X_train, y_train)\n",
    "        lgb_eval = lgb.Dataset(X_test, y_test, reference=lgb_train)\n",
    " \n",
    "        # 第三步：增量训练模型\n",
    "        # 通过 init_model 和 keep_training_booster 两个参数实现增量训练\n",
    "        gbm = lgb.train(params,\n",
    "                        lgb_train,\n",
    "                        num_boost_round=1000,\n",
    "                        valid_sets=lgb_eval,\n",
    "                        init_model=gbm,  # 如果gbm不为None，那么就是在上次的基础上接着训练\n",
    "                        # feature_name=x_cols,\n",
    "                        early_stopping_rounds=10,\n",
    "                        verbose_eval=False,\n",
    "                        keep_training_booster=True)  # 增量训练\n",
    " \n",
    "        print(\"{} time\".format(i))  # 当前次数\n",
    "        # 输出模型评估分数\n",
    "        score_train = dict([(s[1], s[2]) for s in gbm.eval_train()])\n",
    "        print('当前模型在训练集的得分是：mae=%.4f, mse=%.4f, rmse=%.4f'\n",
    "              % (score_train['l1'], score_train['l2'], score_train['rmse']))\n",
    " \n",
    "    return gbm"
   ]
  },
  {
   "cell_type": "code",
   "execution_count": 463,
   "metadata": {},
   "outputs": [
    {
     "name": "stdout",
     "output_type": "stream",
     "text": [
      "[LightGBM] [Warning] Auto-choosing col-wise multi-threading, the overhead of testing was 0.000198 seconds.\n",
      "You can set `force_col_wise=true` to remove the overhead.\n",
      "[LightGBM] [Info] Total Bins 1466\n",
      "[LightGBM] [Info] Number of data points in the train set: 1690, number of used features: 9\n"
     ]
    },
    {
     "ename": "LightGBMError",
     "evalue": "Length of label is not same with #data",
     "output_type": "error",
     "traceback": [
      "\u001b[0;31m---------------------------------------------------------------------------\u001b[0m",
      "\u001b[0;31mLightGBMError\u001b[0m                             Traceback (most recent call last)",
      "\u001b[0;32m<ipython-input-463-5cc1e4f9c9d8>\u001b[0m in \u001b[0;36m<module>\u001b[0;34m\u001b[0m\n\u001b[1;32m     22\u001b[0m \u001b[0mlgb_train\u001b[0m \u001b[0;34m=\u001b[0m \u001b[0mlgb\u001b[0m\u001b[0;34m.\u001b[0m\u001b[0mDataset\u001b[0m\u001b[0;34m(\u001b[0m\u001b[0mX_train\u001b[0m\u001b[0;34m[\u001b[0m\u001b[0;36m0\u001b[0m\u001b[0;34m]\u001b[0m\u001b[0;34m.\u001b[0m\u001b[0mtranspose\u001b[0m\u001b[0;34m(\u001b[0m\u001b[0;34m)\u001b[0m\u001b[0;34m,\u001b[0m \u001b[0my_train\u001b[0m\u001b[0;34m[\u001b[0m\u001b[0;36m0\u001b[0m\u001b[0;34m]\u001b[0m\u001b[0;34m)\u001b[0m\u001b[0;34m\u001b[0m\u001b[0;34m\u001b[0m\u001b[0m\n\u001b[1;32m     23\u001b[0m \u001b[0mlgb_eval\u001b[0m \u001b[0;34m=\u001b[0m \u001b[0mlgb\u001b[0m\u001b[0;34m.\u001b[0m\u001b[0mDataset\u001b[0m\u001b[0;34m(\u001b[0m\u001b[0mX_test\u001b[0m\u001b[0;34m[\u001b[0m\u001b[0;36m0\u001b[0m\u001b[0;34m]\u001b[0m\u001b[0;34m,\u001b[0m \u001b[0my_test\u001b[0m\u001b[0;34m[\u001b[0m\u001b[0;36m0\u001b[0m\u001b[0;34m]\u001b[0m\u001b[0;34m,\u001b[0m \u001b[0mreference\u001b[0m\u001b[0;34m=\u001b[0m\u001b[0mlgb_train\u001b[0m\u001b[0;34m)\u001b[0m\u001b[0;34m\u001b[0m\u001b[0;34m\u001b[0m\u001b[0m\n\u001b[0;32m---> 24\u001b[0;31m gbm = lgb.train(params,\n\u001b[0m\u001b[1;32m     25\u001b[0m                 \u001b[0mlgb_train\u001b[0m\u001b[0;34m,\u001b[0m\u001b[0;34m\u001b[0m\u001b[0;34m\u001b[0m\u001b[0m\n\u001b[1;32m     26\u001b[0m                 \u001b[0mnum_boost_round\u001b[0m\u001b[0;34m=\u001b[0m\u001b[0;36m1000\u001b[0m\u001b[0;34m,\u001b[0m\u001b[0;34m\u001b[0m\u001b[0;34m\u001b[0m\u001b[0m\n",
      "\u001b[0;32m~/.conda/envs/yuqing_lgb/lib/python3.8/site-packages/lightgbm/engine.py\u001b[0m in \u001b[0;36mtrain\u001b[0;34m(params, train_set, num_boost_round, valid_sets, valid_names, fobj, feval, init_model, feature_name, categorical_feature, early_stopping_rounds, evals_result, verbose_eval, learning_rates, keep_training_booster, callbacks)\u001b[0m\n\u001b[1;32m    233\u001b[0m             \u001b[0mbooster\u001b[0m\u001b[0;34m.\u001b[0m\u001b[0mset_train_data_name\u001b[0m\u001b[0;34m(\u001b[0m\u001b[0mtrain_data_name\u001b[0m\u001b[0;34m)\u001b[0m\u001b[0;34m\u001b[0m\u001b[0;34m\u001b[0m\u001b[0m\n\u001b[1;32m    234\u001b[0m         \u001b[0;32mfor\u001b[0m \u001b[0mvalid_set\u001b[0m\u001b[0;34m,\u001b[0m \u001b[0mname_valid_set\u001b[0m \u001b[0;32min\u001b[0m \u001b[0mzip_\u001b[0m\u001b[0;34m(\u001b[0m\u001b[0mreduced_valid_sets\u001b[0m\u001b[0;34m,\u001b[0m \u001b[0mname_valid_sets\u001b[0m\u001b[0;34m)\u001b[0m\u001b[0;34m:\u001b[0m\u001b[0;34m\u001b[0m\u001b[0;34m\u001b[0m\u001b[0m\n\u001b[0;32m--> 235\u001b[0;31m             \u001b[0mbooster\u001b[0m\u001b[0;34m.\u001b[0m\u001b[0madd_valid\u001b[0m\u001b[0;34m(\u001b[0m\u001b[0mvalid_set\u001b[0m\u001b[0;34m,\u001b[0m \u001b[0mname_valid_set\u001b[0m\u001b[0;34m)\u001b[0m\u001b[0;34m\u001b[0m\u001b[0;34m\u001b[0m\u001b[0m\n\u001b[0m\u001b[1;32m    236\u001b[0m     \u001b[0;32mfinally\u001b[0m\u001b[0;34m:\u001b[0m\u001b[0;34m\u001b[0m\u001b[0;34m\u001b[0m\u001b[0m\n\u001b[1;32m    237\u001b[0m         \u001b[0mtrain_set\u001b[0m\u001b[0;34m.\u001b[0m\u001b[0m_reverse_update_params\u001b[0m\u001b[0;34m(\u001b[0m\u001b[0;34m)\u001b[0m\u001b[0;34m\u001b[0m\u001b[0;34m\u001b[0m\u001b[0m\n",
      "\u001b[0;32m~/.conda/envs/yuqing_lgb/lib/python3.8/site-packages/lightgbm/basic.py\u001b[0m in \u001b[0;36madd_valid\u001b[0;34m(self, data, name)\u001b[0m\n\u001b[1;32m   2372\u001b[0m         _safe_call(_LIB.LGBM_BoosterAddValidData(\n\u001b[1;32m   2373\u001b[0m             \u001b[0mself\u001b[0m\u001b[0;34m.\u001b[0m\u001b[0mhandle\u001b[0m\u001b[0;34m,\u001b[0m\u001b[0;34m\u001b[0m\u001b[0;34m\u001b[0m\u001b[0m\n\u001b[0;32m-> 2374\u001b[0;31m             data.construct().handle))\n\u001b[0m\u001b[1;32m   2375\u001b[0m         \u001b[0mself\u001b[0m\u001b[0;34m.\u001b[0m\u001b[0mvalid_sets\u001b[0m\u001b[0;34m.\u001b[0m\u001b[0mappend\u001b[0m\u001b[0;34m(\u001b[0m\u001b[0mdata\u001b[0m\u001b[0;34m)\u001b[0m\u001b[0;34m\u001b[0m\u001b[0;34m\u001b[0m\u001b[0m\n\u001b[1;32m   2376\u001b[0m         \u001b[0mself\u001b[0m\u001b[0;34m.\u001b[0m\u001b[0mname_valid_sets\u001b[0m\u001b[0;34m.\u001b[0m\u001b[0mappend\u001b[0m\u001b[0;34m(\u001b[0m\u001b[0mname\u001b[0m\u001b[0;34m)\u001b[0m\u001b[0;34m\u001b[0m\u001b[0;34m\u001b[0m\u001b[0m\n",
      "\u001b[0;32m~/.conda/envs/yuqing_lgb/lib/python3.8/site-packages/lightgbm/basic.py\u001b[0m in \u001b[0;36mconstruct\u001b[0;34m(self)\u001b[0m\n\u001b[1;32m   1288\u001b[0m                 \u001b[0;32mif\u001b[0m \u001b[0mself\u001b[0m\u001b[0;34m.\u001b[0m\u001b[0mused_indices\u001b[0m \u001b[0;32mis\u001b[0m \u001b[0;32mNone\u001b[0m\u001b[0;34m:\u001b[0m\u001b[0;34m\u001b[0m\u001b[0;34m\u001b[0m\u001b[0m\n\u001b[1;32m   1289\u001b[0m                     \u001b[0;31m# create valid\u001b[0m\u001b[0;34m\u001b[0m\u001b[0;34m\u001b[0m\u001b[0;34m\u001b[0m\u001b[0m\n\u001b[0;32m-> 1290\u001b[0;31m                     self._lazy_init(self.data, label=self.label, reference=self.reference,\n\u001b[0m\u001b[1;32m   1291\u001b[0m                                     \u001b[0mweight\u001b[0m\u001b[0;34m=\u001b[0m\u001b[0mself\u001b[0m\u001b[0;34m.\u001b[0m\u001b[0mweight\u001b[0m\u001b[0;34m,\u001b[0m \u001b[0mgroup\u001b[0m\u001b[0;34m=\u001b[0m\u001b[0mself\u001b[0m\u001b[0;34m.\u001b[0m\u001b[0mgroup\u001b[0m\u001b[0;34m,\u001b[0m\u001b[0;34m\u001b[0m\u001b[0;34m\u001b[0m\u001b[0m\n\u001b[1;32m   1292\u001b[0m                                     \u001b[0minit_score\u001b[0m\u001b[0;34m=\u001b[0m\u001b[0mself\u001b[0m\u001b[0;34m.\u001b[0m\u001b[0minit_score\u001b[0m\u001b[0;34m,\u001b[0m \u001b[0mpredictor\u001b[0m\u001b[0;34m=\u001b[0m\u001b[0mself\u001b[0m\u001b[0;34m.\u001b[0m\u001b[0m_predictor\u001b[0m\u001b[0;34m,\u001b[0m\u001b[0;34m\u001b[0m\u001b[0;34m\u001b[0m\u001b[0m\n",
      "\u001b[0;32m~/.conda/envs/yuqing_lgb/lib/python3.8/site-packages/lightgbm/basic.py\u001b[0m in \u001b[0;36m_lazy_init\u001b[0;34m(self, data, label, reference, weight, group, init_score, predictor, silent, feature_name, categorical_feature, params)\u001b[0m\n\u001b[1;32m   1133\u001b[0m                 \u001b[0;32mraise\u001b[0m \u001b[0mTypeError\u001b[0m\u001b[0;34m(\u001b[0m\u001b[0;34m'Cannot initialize Dataset from {}'\u001b[0m\u001b[0;34m.\u001b[0m\u001b[0mformat\u001b[0m\u001b[0;34m(\u001b[0m\u001b[0mtype\u001b[0m\u001b[0;34m(\u001b[0m\u001b[0mdata\u001b[0m\u001b[0;34m)\u001b[0m\u001b[0;34m.\u001b[0m\u001b[0m__name__\u001b[0m\u001b[0;34m)\u001b[0m\u001b[0;34m)\u001b[0m\u001b[0;34m\u001b[0m\u001b[0;34m\u001b[0m\u001b[0m\n\u001b[1;32m   1134\u001b[0m         \u001b[0;32mif\u001b[0m \u001b[0mlabel\u001b[0m \u001b[0;32mis\u001b[0m \u001b[0;32mnot\u001b[0m \u001b[0;32mNone\u001b[0m\u001b[0;34m:\u001b[0m\u001b[0;34m\u001b[0m\u001b[0;34m\u001b[0m\u001b[0m\n\u001b[0;32m-> 1135\u001b[0;31m             \u001b[0mself\u001b[0m\u001b[0;34m.\u001b[0m\u001b[0mset_label\u001b[0m\u001b[0;34m(\u001b[0m\u001b[0mlabel\u001b[0m\u001b[0;34m)\u001b[0m\u001b[0;34m\u001b[0m\u001b[0;34m\u001b[0m\u001b[0m\n\u001b[0m\u001b[1;32m   1136\u001b[0m         \u001b[0;32mif\u001b[0m \u001b[0mself\u001b[0m\u001b[0;34m.\u001b[0m\u001b[0mget_label\u001b[0m\u001b[0;34m(\u001b[0m\u001b[0;34m)\u001b[0m \u001b[0;32mis\u001b[0m \u001b[0;32mNone\u001b[0m\u001b[0;34m:\u001b[0m\u001b[0;34m\u001b[0m\u001b[0;34m\u001b[0m\u001b[0m\n\u001b[1;32m   1137\u001b[0m             \u001b[0;32mraise\u001b[0m \u001b[0mValueError\u001b[0m\u001b[0;34m(\u001b[0m\u001b[0;34m\"Label should not be None\"\u001b[0m\u001b[0;34m)\u001b[0m\u001b[0;34m\u001b[0m\u001b[0;34m\u001b[0m\u001b[0m\n",
      "\u001b[0;32m~/.conda/envs/yuqing_lgb/lib/python3.8/site-packages/lightgbm/basic.py\u001b[0m in \u001b[0;36mset_label\u001b[0;34m(self, label)\u001b[0m\n\u001b[1;32m   1649\u001b[0m         \u001b[0;32mif\u001b[0m \u001b[0mself\u001b[0m\u001b[0;34m.\u001b[0m\u001b[0mhandle\u001b[0m \u001b[0;32mis\u001b[0m \u001b[0;32mnot\u001b[0m \u001b[0;32mNone\u001b[0m\u001b[0;34m:\u001b[0m\u001b[0;34m\u001b[0m\u001b[0;34m\u001b[0m\u001b[0m\n\u001b[1;32m   1650\u001b[0m             \u001b[0mlabel\u001b[0m \u001b[0;34m=\u001b[0m \u001b[0mlist_to_1d_numpy\u001b[0m\u001b[0;34m(\u001b[0m\u001b[0m_label_from_pandas\u001b[0m\u001b[0;34m(\u001b[0m\u001b[0mlabel\u001b[0m\u001b[0;34m)\u001b[0m\u001b[0;34m,\u001b[0m \u001b[0mname\u001b[0m\u001b[0;34m=\u001b[0m\u001b[0;34m'label'\u001b[0m\u001b[0;34m)\u001b[0m\u001b[0;34m\u001b[0m\u001b[0;34m\u001b[0m\u001b[0m\n\u001b[0;32m-> 1651\u001b[0;31m             \u001b[0mself\u001b[0m\u001b[0;34m.\u001b[0m\u001b[0mset_field\u001b[0m\u001b[0;34m(\u001b[0m\u001b[0;34m'label'\u001b[0m\u001b[0;34m,\u001b[0m \u001b[0mlabel\u001b[0m\u001b[0;34m)\u001b[0m\u001b[0;34m\u001b[0m\u001b[0;34m\u001b[0m\u001b[0m\n\u001b[0m\u001b[1;32m   1652\u001b[0m             \u001b[0mself\u001b[0m\u001b[0;34m.\u001b[0m\u001b[0mlabel\u001b[0m \u001b[0;34m=\u001b[0m \u001b[0mself\u001b[0m\u001b[0;34m.\u001b[0m\u001b[0mget_field\u001b[0m\u001b[0;34m(\u001b[0m\u001b[0;34m'label'\u001b[0m\u001b[0;34m)\u001b[0m  \u001b[0;31m# original values can be modified at cpp side\u001b[0m\u001b[0;34m\u001b[0m\u001b[0;34m\u001b[0m\u001b[0m\n\u001b[1;32m   1653\u001b[0m         \u001b[0;32mreturn\u001b[0m \u001b[0mself\u001b[0m\u001b[0;34m\u001b[0m\u001b[0;34m\u001b[0m\u001b[0m\n",
      "\u001b[0;32m~/.conda/envs/yuqing_lgb/lib/python3.8/site-packages/lightgbm/basic.py\u001b[0m in \u001b[0;36mset_field\u001b[0;34m(self, field_name, data)\u001b[0m\n\u001b[1;32m   1483\u001b[0m         \u001b[0;32mif\u001b[0m \u001b[0mtype_data\u001b[0m \u001b[0;34m!=\u001b[0m \u001b[0mFIELD_TYPE_MAPPER\u001b[0m\u001b[0;34m[\u001b[0m\u001b[0mfield_name\u001b[0m\u001b[0;34m]\u001b[0m\u001b[0;34m:\u001b[0m\u001b[0;34m\u001b[0m\u001b[0;34m\u001b[0m\u001b[0m\n\u001b[1;32m   1484\u001b[0m             \u001b[0;32mraise\u001b[0m \u001b[0mTypeError\u001b[0m\u001b[0;34m(\u001b[0m\u001b[0;34m\"Input type error for set_field\"\u001b[0m\u001b[0;34m)\u001b[0m\u001b[0;34m\u001b[0m\u001b[0;34m\u001b[0m\u001b[0m\n\u001b[0;32m-> 1485\u001b[0;31m         _safe_call(_LIB.LGBM_DatasetSetField(\n\u001b[0m\u001b[1;32m   1486\u001b[0m             \u001b[0mself\u001b[0m\u001b[0;34m.\u001b[0m\u001b[0mhandle\u001b[0m\u001b[0;34m,\u001b[0m\u001b[0;34m\u001b[0m\u001b[0;34m\u001b[0m\u001b[0m\n\u001b[1;32m   1487\u001b[0m             \u001b[0mc_str\u001b[0m\u001b[0;34m(\u001b[0m\u001b[0mfield_name\u001b[0m\u001b[0;34m)\u001b[0m\u001b[0;34m,\u001b[0m\u001b[0;34m\u001b[0m\u001b[0;34m\u001b[0m\u001b[0m\n",
      "\u001b[0;32m~/.conda/envs/yuqing_lgb/lib/python3.8/site-packages/lightgbm/basic.py\u001b[0m in \u001b[0;36m_safe_call\u001b[0;34m(ret)\u001b[0m\n\u001b[1;32m     53\u001b[0m     \"\"\"\n\u001b[1;32m     54\u001b[0m     \u001b[0;32mif\u001b[0m \u001b[0mret\u001b[0m \u001b[0;34m!=\u001b[0m \u001b[0;36m0\u001b[0m\u001b[0;34m:\u001b[0m\u001b[0;34m\u001b[0m\u001b[0;34m\u001b[0m\u001b[0m\n\u001b[0;32m---> 55\u001b[0;31m         \u001b[0;32mraise\u001b[0m \u001b[0mLightGBMError\u001b[0m\u001b[0;34m(\u001b[0m\u001b[0mdecode_string\u001b[0m\u001b[0;34m(\u001b[0m\u001b[0m_LIB\u001b[0m\u001b[0;34m.\u001b[0m\u001b[0mLGBM_GetLastError\u001b[0m\u001b[0;34m(\u001b[0m\u001b[0;34m)\u001b[0m\u001b[0;34m)\u001b[0m\u001b[0;34m)\u001b[0m\u001b[0;34m\u001b[0m\u001b[0;34m\u001b[0m\u001b[0m\n\u001b[0m\u001b[1;32m     56\u001b[0m \u001b[0;34m\u001b[0m\u001b[0m\n\u001b[1;32m     57\u001b[0m \u001b[0;34m\u001b[0m\u001b[0m\n",
      "\u001b[0;31mLightGBMError\u001b[0m: Length of label is not same with #data"
     ]
    }
   ],
   "source": [
    "i=0\n",
    "# 创建lgb的数据集\n",
    "# y_ = list(map(float, y_))  # 将numpy.ndarray转变为list\n",
    "X_ = Fx_total[i]\n",
    "y_ = Fy_total[i]\n",
    "\n",
    "params = {\n",
    "    'task': 'train',\n",
    "    'application': 'regression',  # 目标函数\n",
    "    'boosting_type': 'gbdt',  # 设置提升类型\n",
    "    'learning_rate': 0.01,  # 学习速率\n",
    "    'num_leaves': 50,  # 叶子节点数\n",
    "    'tree_learner': 'serial',\n",
    "    'min_data_in_leaf': 100,\n",
    "    'metric': ['l1', 'l2', 'rmse'],  # l1:mae, l2:mse  # 评估函数\n",
    "    'max_bin': 255,\n",
    "    'num_trees': 300\n",
    "}\n",
    "\n",
    "X_train, X_test, y_train, y_test = train_test_split(X_, y_, test_size=0.25, random_state=0)\n",
    "# y_train = y_train.ravel()\n",
    "lgb_train = lgb.Dataset(X_train[0].transpose(), y_train[0])\n",
    "lgb_eval = lgb.Dataset(X_test[0], y_test[0], reference=lgb_train)\n",
    "gbm = lgb.train(params,\n",
    "                lgb_train,\n",
    "                num_boost_round=1000,\n",
    "                valid_sets=lgb_eval,\n",
    "                init_model=None,  # 如果gbm不为None，那么就是在上次的基础上接着训练\n",
    "                # feature_name=x_cols,\n",
    "                early_stopping_rounds=10,\n",
    "                verbose_eval=False,\n",
    "                keep_training_booster=True)  # 增量训练\n"
   ]
  },
  {
   "cell_type": "code",
   "execution_count": 385,
   "metadata": {},
   "outputs": [
    {
     "data": {
      "text/plain": [
       "(1690,)"
      ]
     },
     "execution_count": 385,
     "metadata": {},
     "output_type": "execute_result"
    }
   ],
   "source": [
    "np.shape(y_train[0])"
   ]
  },
  {
   "cell_type": "code",
   "execution_count": 386,
   "metadata": {},
   "outputs": [
    {
     "data": {
      "text/plain": [
       "(1690, 9)"
      ]
     },
     "execution_count": 386,
     "metadata": {},
     "output_type": "execute_result"
    }
   ],
   "source": [
    "X_train[0].transpose().shape"
   ]
  },
  {
   "cell_type": "code",
   "execution_count": null,
   "metadata": {},
   "outputs": [],
   "source": [
    "'''lightgbm增量训练'''\n",
    "print('lightgbm增量训练')\n",
    "train_X, test_X, train_y, test_y = train_test_split(Fx_resam, Fy_resam, test_size=0.25)\n",
    "# lgb_train = lgb.Dataset(train_X, train_y)\n",
    "# lgb_test  = lgb.Dataset(test_X, test_y)\n",
    "# train_X, test_X, train_Y, test_Y = train_test_split(train_data, train_label, test_size=0.1, random_state=0)\n",
    "# train_X, train_Y = shuffle(train_data, train_label, random_state=0)  # random_state=0用于记录打乱位置 保证每次打乱位置不变\n",
    "\n",
    "gbm = lightgbmTest()\n",
    "pred_Y = gbm.predict(test_X)\n",
    "# print('compute_loss:{}'.format(compute_loss(test_Y, pred_Y)))\n",
    "\n",
    "# gbm.save_model('lightgbmtest.model')\n",
    "# 模型存储\n",
    "# joblib.dump(gbm, 'loan_model.pkl')\n",
    "# # 模型加载\n",
    "# gbm = joblib.load('loan_model.pkl')"
   ]
  },
  {
   "cell_type": "code",
   "execution_count": 456,
   "metadata": {},
   "outputs": [
    {
     "data": {
      "text/plain": [
       "22"
      ]
     },
     "execution_count": 456,
     "metadata": {},
     "output_type": "execute_result"
    }
   ],
   "source": [
    "lgb_train = lgb.Dataset(X_train[0].transpose(), y_train[0])\n",
    "lgb_eval = lgb.Dataset(X_test[0], y_test[0], reference=lgb_train)\n",
    "gbm = lgb.train(params,\n",
    "                lgb_train,\n",
    "                num_boost_round=1000,\n",
    "                valid_sets=lgb_eval,\n",
    "                init_model=None,  # 如果gbm不为None，那么就是在上次的基础上接着训练\n",
    "                # feature_name=x_cols,\n",
    "                early_stopping_rounds=10,\n",
    "                verbose_eval=False,\n",
    "                keep_training_booster=True)  # 增量训练"
   ]
  },
  {
   "cell_type": "code",
   "execution_count": 13,
   "metadata": {},
   "outputs": [
    {
     "data": {
      "text/plain": [
       "(9, 2196)"
      ]
     },
     "execution_count": 13,
     "metadata": {},
     "output_type": "execute_result"
    }
   ],
   "source": [
    "200day * factors * ticks\n",
    "\n",
    "np.hstack\n",
    "2\n",
    "3"
   ]
  },
  {
   "cell_type": "code",
   "execution_count": null,
   "metadata": {},
   "outputs": [],
   "source": [
    "9:30 - 16:30  300\n",
    "9:30 -   300\n",
    " 300\n",
    "\n",
    "行数 = 200 * 300 = 60000\n",
    "\n",
    "train_x = 60000 * 9   train_y: 60000\n",
    "1 - 300\n",
    "1 - 300\n",
    "60-120 10:11am\n",
    "\n",
    "\n",
    "实盘： "
   ]
  },
  {
   "cell_type": "code",
   "execution_count": 11,
   "metadata": {},
   "outputs": [
    {
     "ename": "ValueError",
     "evalue": "could not broadcast input array from shape (9,2196) into shape (9,)",
     "output_type": "error",
     "traceback": [
      "\u001b[0;31m---------------------------------------------------------------------------\u001b[0m",
      "\u001b[0;31mValueError\u001b[0m                                Traceback (most recent call last)",
      "\u001b[0;32m<ipython-input-11-e9d113899574>\u001b[0m in \u001b[0;36m<module>\u001b[0;34m\u001b[0m\n\u001b[1;32m      5\u001b[0m \u001b[0mlgb_test\u001b[0m  \u001b[0;34m=\u001b[0m \u001b[0mlgb\u001b[0m\u001b[0;34m.\u001b[0m\u001b[0mDataset\u001b[0m\u001b[0;34m(\u001b[0m\u001b[0mtest_X\u001b[0m\u001b[0;34m,\u001b[0m \u001b[0mtest_y\u001b[0m\u001b[0;34m)\u001b[0m\u001b[0;34m\u001b[0m\u001b[0;34m\u001b[0m\u001b[0m\n\u001b[1;32m      6\u001b[0m \u001b[0mmy_model\u001b[0m \u001b[0;34m=\u001b[0m \u001b[0mlgb\u001b[0m\u001b[0;34m.\u001b[0m\u001b[0mLGBMRegressor\u001b[0m\u001b[0;34m(\u001b[0m\u001b[0mobjective\u001b[0m\u001b[0;34m=\u001b[0m\u001b[0;34m\"regression\"\u001b[0m\u001b[0;34m,\u001b[0m \u001b[0mnum_leaves\u001b[0m\u001b[0;34m=\u001b[0m\u001b[0;36m10\u001b[0m\u001b[0;34m,\u001b[0m \u001b[0mlearning_rate\u001b[0m\u001b[0;34m=\u001b[0m\u001b[0;36m0.1\u001b[0m\u001b[0;34m,\u001b[0m \u001b[0mn_estimators\u001b[0m\u001b[0;34m=\u001b[0m\u001b[0;36m20\u001b[0m\u001b[0;34m,\u001b[0m \u001b[0mverbosity\u001b[0m\u001b[0;34m=\u001b[0m\u001b[0;36m2\u001b[0m\u001b[0;34m)\u001b[0m\u001b[0;34m\u001b[0m\u001b[0;34m\u001b[0m\u001b[0m\n\u001b[0;32m----> 7\u001b[0;31m \u001b[0mmy_model\u001b[0m\u001b[0;34m.\u001b[0m\u001b[0mfit\u001b[0m\u001b[0;34m(\u001b[0m\u001b[0mnp\u001b[0m\u001b[0;34m.\u001b[0m\u001b[0marray\u001b[0m\u001b[0;34m(\u001b[0m\u001b[0mtrain_X\u001b[0m\u001b[0;34m[\u001b[0m\u001b[0;36m0\u001b[0m\u001b[0;34m:\u001b[0m\u001b[0;36m5\u001b[0m\u001b[0;34m]\u001b[0m\u001b[0;34m)\u001b[0m\u001b[0;34m.\u001b[0m\u001b[0mtranspose\u001b[0m\u001b[0;34m(\u001b[0m\u001b[0;34m)\u001b[0m\u001b[0;34m,\u001b[0m \u001b[0mtrain_y\u001b[0m\u001b[0;34m[\u001b[0m\u001b[0;36m0\u001b[0m\u001b[0;34m:\u001b[0m\u001b[0;36m5\u001b[0m\u001b[0;34m]\u001b[0m\u001b[0;34m,\u001b[0m \u001b[0mverbose\u001b[0m\u001b[0;34m=\u001b[0m\u001b[0;32mFalse\u001b[0m\u001b[0;34m)\u001b[0m\u001b[0;34m\u001b[0m\u001b[0;34m\u001b[0m\u001b[0m\n\u001b[0m\u001b[1;32m      8\u001b[0m \u001b[0;31m# my_model.fit(train_X[1].transpose(), train_y[1], verbose=False)\u001b[0m\u001b[0;34m\u001b[0m\u001b[0;34m\u001b[0m\u001b[0;34m\u001b[0m\u001b[0m\n",
      "\u001b[0;31mValueError\u001b[0m: could not broadcast input array from shape (9,2196) into shape (9,)"
     ]
    }
   ],
   "source": [
    "# 调用LightGBM模型，使用训练集数据进行训练（拟合）\n",
    "# Add verbosity=2 to print messages while running boosting\n",
    "train_X, test_X, train_y, test_y = train_test_split(Fx_resam, Fy_resam, test_size=0.1)\n",
    "lgb_train = lgb.Dataset(train_X, train_y)\n",
    "lgb_test  = lgb.Dataset(test_X, test_y)\n",
    "my_model = lgb.LGBMRegressor(objective=\"regression\", num_leaves=10, learning_rate=0.1, n_estimators=20, verbosity=2)\n",
    "my_model.fit(np.array(train_X[0:5]).transpose(), train_y[0:5], verbose=False)\n",
    "# my_model.fit(train_X[1].transpose(), train_y[1], verbose=False)"
   ]
  },
  {
   "cell_type": "code",
   "execution_count": 7,
   "metadata": {},
   "outputs": [
    {
     "name": "stdout",
     "output_type": "stream",
     "text": [
      "Mean Absolute Error : 0.5161843639763346\n"
     ]
    }
   ],
   "source": [
    "predictions = my_model.predict(test_X[0].transpose())\n",
    "\n",
    "# 对模型的预测结果进行评判（平均绝对误差）\n",
    "print(\"Mean Absolute Error : \" + str(mean_absolute_error(predictions, test_y[0])))"
   ]
  },
  {
   "cell_type": "code",
   "execution_count": 25,
   "metadata": {},
   "outputs": [
    {
     "data": {
      "text/plain": [
       "array([97.54245 , 97.540405, 97.532196, ..., 97.50835 , 97.50755 ,\n",
       "       97.5075  ], dtype=float32)"
      ]
     },
     "execution_count": 25,
     "metadata": {},
     "output_type": "execute_result"
    }
   ],
   "source": [
    "test_y[0]"
   ]
  },
  {
   "cell_type": "code",
   "execution_count": 8,
   "metadata": {},
   "outputs": [
    {
     "data": {
      "text/plain": [
       "[<matplotlib.lines.Line2D at 0x7fb2718a4220>]"
      ]
     },
     "execution_count": 8,
     "metadata": {},
     "output_type": "execute_result"
    },
    {
     "data": {
      "image/png": "[encoded data removed]",
      "text/plain": [
       "<Figure size 720x576 with 2 Axes>"
      ]
     },
     "metadata": {
      "needs_background": "light"
     },
     "output_type": "display_data"
    }
   ],
   "source": [
    "fig, ax = plt.subplots(2,1, figsize=(10,8))\n",
    "ax[0].plot(test_y[0],'.',color='r')\n",
    "ax[1].plot(test_y[0].index, predictions,'.')\n",
    "# fig.savefig('regression.jpg', dpi = 300)"
   ]
  },
  {
   "cell_type": "code",
   "execution_count": null,
   "metadata": {},
   "outputs": [],
   "source": [
    "def lightgbmTest():\n",
    "    import lightgbm as lgb\n",
    "    # 第一步，初始化模型为None，设置模型参数\n",
    "    gbm = None\n",
    "    params = {\n",
    "        'task': 'train',\n",
    "        'application': 'regression',  # 目标函数\n",
    "        'boosting_type': 'gbdt',  # 设置提升类型\n",
    "        'learning_rate': 0.01,  # 学习速率\n",
    "        'num_leaves': 50,  # 叶子节点数\n",
    "        'tree_learner': 'serial',\n",
    "        'min_data_in_leaf': 100,\n",
    "        'metric': ['l1', 'l2', 'rmse'],  # l1:mae, l2:mse  # 评估函数\n",
    "        'max_bin': 255,\n",
    "        'num_trees': 300\n",
    "    }\n",
    " \n",
    "    # # 第二步，流式读取数据(每次10万)\n",
    "    # minibatch_train_iterators = iter_minibatches(minibatch_size=10000)\n",
    "    for \n",
    " \n",
    "    for i, (X_, y_) in enumerate(minibatch_train_iterators):\n",
    "        # 创建lgb的数据集\n",
    "        # y_ = list(map(float, y_))  # 将numpy.ndarray转变为list\n",
    " \n",
    "        X_train, X_test, y_train, y_test = train_test_split(X_, y_, test_size=0.1, random_state=0)\n",
    "        y_train = y_train.ravel()\n",
    "        lgb_train = lgb.Dataset(X_train, y_train)\n",
    "        lgb_eval = lgb.Dataset(X_test, y_test, reference=lgb_train)\n",
    " \n",
    "        # 第三步：增量训练模型\n",
    "        # 重点来了，通过 init_model 和 keep_training_booster 两个参数实现增量训练\n",
    "        gbm = lgb.train(params,\n",
    "                        lgb_train,\n",
    "                        num_boost_round=1000,\n",
    "                        valid_sets=lgb_eval,\n",
    "                        init_model=gbm,  # 如果gbm不为None，那么就是在上次的基础上接着训练\n",
    "                        # feature_name=x_cols,\n",
    "                        early_stopping_rounds=10,\n",
    "                        verbose_eval=False,\n",
    "                        keep_training_booster=True)  # 增量训练\n",
    " \n",
    "        print(\"{} time\".format(i))  # 当前次数\n",
    "        # 输出模型评估分数\n",
    "        score_train = dict([(s[1], s[2]) for s in gbm.eval_train()])\n",
    "        print('当前模型在训练集的得分是：mae=%.4f, mse=%.4f, rmse=%.4f'\n",
    "              % (score_train['l1'], score_train['l2'], score_train['rmse']))\n",
    " \n",
    "    return gbm"
   ]
  },
  {
   "cell_type": "code",
   "execution_count": 322,
   "metadata": {},
   "outputs": [
    {
     "data": {
      "text/plain": [
       "Text(0, 0.5, 'Label resample')"
      ]
     },
     "execution_count": 322,
     "metadata": {},
     "output_type": "execute_result"
    },
    {
     "data": {
      "image/png": "[encoded data removed]",
      "text/plain": [
       "<Figure size 576x432 with 2 Axes>"
      ]
     },
     "metadata": {
      "needs_background": "light"
     },
     "output_type": "display_data"
    }
   ],
   "source": [
    "fig, ax = plt.subplots(2,1,figsize=(8,6))\n",
    "ax[0].plot(Fy[0],'.')\n",
    "ax[0].set_ylabel('Label orignal', fontsize=14)\n",
    "ax[1].plot(Fy_resam[0],'.', color='r')\n",
    "ax[1].set_ylabel('Label resample', fontsize=14)"
   ]
  },
  {
   "cell_type": "code",
   "execution_count": null,
   "metadata": {},
   "outputs": [],
   "source": []
  }
 ],
 "metadata": {
  "kernelspec": {
   "display_name": "Python 3",
   "language": "python",
   "name": "python3"
  },
  "language_info": {
   "codemirror_mode": {
    "name": "ipython",
    "version": 3
   },
   "file_extension": ".py",
   "mimetype": "text/x-python",
   "name": "python",
   "nbconvert_exporter": "python",
   "pygments_lexer": "ipython3",
   "version": "3.8.8"
  },
  "orig_nbformat": 4
 },
 "nbformat": 4,
 "nbformat_minor": 2
}
